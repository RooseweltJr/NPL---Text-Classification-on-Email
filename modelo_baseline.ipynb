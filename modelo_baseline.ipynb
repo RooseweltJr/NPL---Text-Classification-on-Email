{
 "cells": [
  {
   "cell_type": "code",
   "execution_count": null,
   "metadata": {},
   "outputs": [],
   "source": [
    "from sklearn.feature_extraction.text import TfidfVectorizer\n",
    "from sklearn.preprocessing import OneHotEncoder, LabelEncoder\n",
    "from sklearn.linear_model import LogisticRegression\n",
    "from sklearn.svm import SVC\n",
    "from sklearn.neighbors import KNeighborsClassifier\n",
    "from sklearn.tree import DecisionTreeClassifier\n",
    "from sklearn.ensemble import RandomForestClassifier\n",
    "from sklearn.model_selection import StratifiedKFold, cross_val_score, cross_val_predict, train_test_split, RandomizedSearchCV\n",
    "from sklearn.metrics import roc_auc_score, classification_report, roc_curve, precision_recall_fscore_support, confusion_matrix, pairwise_distances\n",
    "from sklearn.ensemble import StackingClassifier, VotingClassifier\n",
    "from scipy.spatial.distance import squareform\n",
    "import pickle\n",
    "import pandas as pd\n"
   ]
  },
  {
   "cell_type": "code",
   "execution_count": null,
   "metadata": {},
   "outputs": [],
   "source": [
    "df=pd.read_csv('Base_tratada\\\\database.csv')\n",
    "df.dropna(subset=['Conteudo_filtrado'],inplace=True)\n",
    "df[df['Categoria'] =='entertainment']\n"
   ]
  },
  {
   "cell_type": "code",
   "execution_count": null,
   "metadata": {},
   "outputs": [],
   "source": [
    "# Codificação da categoria\n",
    "le = LabelEncoder()\n",
    "df['Classification'] = le.fit_transform(df['Categoria'])\n",
    "\n",
    "# Determina o mínimo número de ocorrências de uma categoria\n",
    "minimum_count = df['Categoria'].value_counts().min()\n",
    "\n",
    "# Shuffle dos dados\n",
    "df = df.sample(frac=1)\n",
    "\n",
    "# Seleção das amostras balanceadas por categoria\n",
    "politics_df = df.loc[df['Categoria'] == 'Politics'][:minimum_count]\n",
    "crime_df = df.loc[df['Categoria'] == 'Crime'][:minimum_count]\n",
    "entertainment_df = df.loc[df['Categoria'] == 'Entertainment'][:minimum_count]\n",
    "science_df = df.loc[df['Categoria'] == 'Science'][:minimum_count]\n",
    "normal_dist_df = pd.concat([politics_df, crime_df, entertainment_df, science_df])\n",
    "\n",
    "# Vetorização\n",
    "tfidf = TfidfVectorizer(lowercase=False)\n",
    "train_vec = tfidf.fit_transform(normal_dist_df['Conteudo_filtrado'])\n",
    "print(train_vec.shape)\n",
    "\n",
    "normal_dist_df[normal_dist_df['Categoria'] =='entertainment']\n",
    "type(train_vec)"
   ]
  },
  {
   "cell_type": "code",
   "execution_count": null,
   "metadata": {},
   "outputs": [],
   "source": [
    "teste_size=0.2\n",
    "\n",
    "X_train, X_test, y_train, y_test = train_test_split(train_vec, normal_dist_df['Classification'], stratify=normal_dist_df['Classification'], test_size=teste_size)\n",
    "\n",
    "print(\"x_train\", X_train.shape, type(X_train))\n",
    "print(\"X_test\", X_test.shape, type(X_test))\n",
    "print(\"y_train\", y_train.shape, type(y_train))\n",
    "print(\"y_test\", y_test.shape, type(y_test))"
   ]
  },
  {
   "cell_type": "code",
   "execution_count": null,
   "metadata": {},
   "outputs": [],
   "source": [
    "classifiers = {\n",
    "    \"SVC\": SVC(probability=True),\n",
    "    \"LR\": LogisticRegression(max_iter= 500),\n",
    "    \"KNN\": KNeighborsClassifier(),\n",
    "    \"DT\": DecisionTreeClassifier()\n",
    "}"
   ]
  },
  {
   "cell_type": "code",
   "execution_count": null,
   "metadata": {},
   "outputs": [],
   "source": [
    "n_split = 5\n",
    "for key, classifier in classifiers.items():\n",
    "    classifier.fit(X_train, y_train)\n",
    "    training_score = cross_val_score(classifier, X_train, y_train, cv=n_split)\n",
    "    print(\"Classifiers: \", key, \"Has a training score of\", round(training_score.mean(), 2) * 100, \"% accuracy score.\")\n",
    "    \n",
    "  "
   ]
  },
  {
   "cell_type": "code",
   "execution_count": null,
   "metadata": {},
   "outputs": [],
   "source": [
    "method = 'predict_proba'\n",
    "n_split = 5\n",
    "log_reg_pred = cross_val_predict(classifiers[\"LR\"], X_train, y_train, cv = n_split, method = method)\n",
    "knn_pred = cross_val_predict(classifiers[\"KNN\"], X_train, y_train, cv = n_split, method = method)\n",
    "svc_pred = cross_val_predict(classifiers[\"SVC\"], X_train, y_train, cv = n_split, method = method)\n",
    "tree_pred = cross_val_predict(classifiers[\"DT\"], X_train, y_train, cv = n_split, method = method)\n",
    "\n"
   ]
  },
  {
   "cell_type": "code",
   "execution_count": null,
   "metadata": {},
   "outputs": [],
   "source": [
    "log_reg_auc_score = roc_auc_score(y_train, log_reg_pred, multi_class = 'ovr')\n",
    "knn_auc_score = roc_auc_score(y_train, knn_pred, multi_class = 'ovr')\n",
    "svc_auc_score = roc_auc_score(y_train, svc_pred, multi_class = 'ovr')\n",
    "tree_auc_score = roc_auc_score(y_train, tree_pred, multi_class = 'ovr')\n",
    "\n",
    "print('Support Vector Classifier AUC: ', svc_auc_score)\n",
    "print('Logistic Regression AUC: ', log_reg_auc_score)\n",
    "print('KNears Neighbors AUC: ', knn_auc_score)\n",
    "print('Decision Tree Classifier AUC: ', tree_auc_score)"
   ]
  },
  {
   "cell_type": "code",
   "execution_count": null,
   "metadata": {},
   "outputs": [],
   "source": [
    "method = 'predict'\n",
    "n_split = 5\n",
    "log_reg_pred = cross_val_predict(classifiers[\"LR\"], X_test, y_test, cv = n_split, method = method)\n",
    "knn_pred = cross_val_predict(classifiers[\"KNN\"], X_test, y_test, cv = n_split, method = method)\n",
    "svc_pred = cross_val_predict(classifiers[\"SVC\"], X_test, y_test, cv = n_split, method = method)\n",
    "tree_pred = cross_val_predict(classifiers[\"DT\"], X_test, y_test, cv = n_split, method = method)"
   ]
  },
  {
   "cell_type": "code",
   "execution_count": null,
   "metadata": {},
   "outputs": [],
   "source": [
    "log_reg_cf = confusion_matrix(y_test, log_reg_pred)\n",
    "kneighbors_cf = confusion_matrix(y_test, knn_pred)\n",
    "svc_cf = confusion_matrix(y_test, svc_pred)\n",
    "tree_cf = confusion_matrix(y_test, tree_pred)"
   ]
  },
  {
   "cell_type": "code",
   "execution_count": null,
   "metadata": {},
   "outputs": [],
   "source": [
    "!pip install nbformat>=4.2.0\n"
   ]
  },
  {
   "cell_type": "code",
   "execution_count": null,
   "metadata": {},
   "outputs": [],
   "source": [
    "from plotly.subplots import make_subplots\n",
    "import matplotlib.pyplot as plt\n",
    "import seaborn as sns"
   ]
  },
  {
   "cell_type": "code",
   "execution_count": null,
   "metadata": {},
   "outputs": [],
   "source": [
    "x= ['FP','TN']\n",
    "y= ['TP','FN']\n",
    "colorscale = [[0, 'rgb(255,0,0)'], [1, 'rgb(0,0,255)']]\n",
    "\n",
    "conf_matrix = make_subplots(rows=2, cols=2, subplot_titles=(\"Logistic Regression\", \"K-Nearest Neighbor\", \"Support Vector Classifier\", \"Decision Tree Classifier\"))\n",
    "conf_matrix.add_heatmap(y=y, colorscale=colorscale, texttemplate=\"%{text}\", textfont={\"size\":20}, z=log_reg_cf, text=log_reg_cf, row=1, col=1)\n",
    "conf_matrix.add_heatmap(x=x, y=y, colorscale=colorscale, texttemplate=\"%{text}\", textfont={\"size\":20}, showscale=False, z=kneighbors_cf, text=kneighbors_cf, row=1, col=2)\n",
    "conf_matrix.add_heatmap(x=x, y=y, colorscale=colorscale, texttemplate=\"%{text}\", textfont={\"size\":20}, showscale=False, z=svc_cf, text=svc_cf, row=2, col=1)\n",
    "conf_matrix.add_heatmap(x=x, y=y, colorscale=colorscale, texttemplate=\"%{text}\", textfont={\"size\":20}, showscale=False, z=tree_cf, text=tree_cf, row=2, col=2)\n",
    "\n",
    "conf_matrix.update_yaxes(autorange=\"reversed\")\n",
    "conf_matrix.show()"
   ]
  },
  {
   "cell_type": "code",
   "execution_count": null,
   "metadata": {},
   "outputs": [],
   "source": [
    "labels = ['Politics', 'Science']  # Altere conforme necessário para suas classes\n",
    "\n",
    "# Configuração da figura e dos eixos\n",
    "fig, axs = plt.subplots(2, 2, figsize=(12, 10))\n",
    "axs = axs.flatten()\n",
    "\n",
    "# Função para plotar a matriz de confusão\n",
    "def plot_confusion_matrix(ax, matrix, title):\n",
    "    sns.heatmap(matrix, annot=True, fmt='d', cmap='coolwarm', xticklabels=labels, yticklabels=labels, ax=ax)\n",
    "    ax.set_title(title)\n",
    "    ax.set_xlabel('Predicted')\n",
    "    ax.set_ylabel('Actual')\n",
    "\n",
    "# Plotar cada matriz de confusão\n",
    "plot_confusion_matrix(axs[0], log_reg_cf, 'Logistic Regression')\n",
    "plot_confusion_matrix(axs[1], kneighbors_cf, 'K-Nearest Neighbor')\n",
    "plot_confusion_matrix(axs[2], svc_cf, 'Support Vector Classifier')\n",
    "plot_confusion_matrix(axs[3], tree_cf, 'Decision Tree Classifier')\n",
    "\n",
    "# Ajustar layout\n",
    "plt.tight_layout()\n",
    "plt.show()"
   ]
  },
  {
   "cell_type": "code",
   "execution_count": null,
   "metadata": {},
   "outputs": [],
   "source": [
    "from sklearn.metrics import confusion_matrix\n",
    "from sklearn.model_selection import cross_val_predict\n",
    "import plotly.graph_objects as go\n",
    "from plotly.subplots import make_subplots\n",
    "\n",
    "# Obtenha as previsões usando cross_val_predict\n",
    "log_reg_pred = cross_val_predict(classifiers[\"LR\"], X_test, y_test, cv=n_split)\n",
    "knn_pred = cross_val_predict(classifiers[\"KNN\"], X_test, y_test, cv=n_split)\n",
    "svc_pred = cross_val_predict(classifiers[\"SVC\"], X_test, y_test, cv=n_split)\n",
    "tree_pred = cross_val_predict(classifiers[\"DT\"], X_test, y_test, cv=n_split)\n",
    "\n",
    "# Calcule as matrizes de confusão\n",
    "log_reg_cf = confusion_matrix(y_test, log_reg_pred)\n",
    "knn_cf = confusion_matrix(y_test, knn_pred)\n",
    "svc_cf = confusion_matrix(y_test, svc_pred)\n",
    "tree_cf = confusion_matrix(y_test, tree_pred)\n",
    "\n",
    "# Labels para os heatmaps\n",
    "x= ['FP','TN']\n",
    "y= ['TP','FN']\n",
    "colorscale = [[0, 'rgb(255,0,0)'], [1, 'rgb(0,0,255)']]\n",
    "\n",
    "# Criação dos subplots\n",
    "conf_matrix = make_subplots(rows=2, cols=2, subplot_titles=(\"Logistic Regression\", \"K-Nearest Neighbor\", \"Support Vector Classifier\", \"Decision Tree Classifier\"))\n",
    "\n",
    "# Adicionando os heatmaps\n",
    "conf_matrix.add_trace(go.Heatmap(z=log_reg_cf, x=x, y=y, colorscale=colorscale, text=log_reg_cf, texttemplate=\"%{text}\", textfont={\"size\":20}), row=1, col=1)\n",
    "conf_matrix.add_trace(go.Heatmap(z=knn_cf, x=x, y=y, colorscale=colorscale, text=knn_cf, texttemplate=\"%{text}\", textfont={\"size\":20}, showscale=False), row=1, col=2)\n",
    "conf_matrix.add_trace(go.Heatmap(z=svc_cf, x=x, y=y, colorscale=colorscale, text=svc_cf, texttemplate=\"%{text}\", textfont={\"size\":20}, showscale=False), row=2, col=1)\n",
    "conf_matrix.add_trace(go.Heatmap(z=tree_cf, x=x, y=y, colorscale=colorscale, text=tree_cf, texttemplate=\"%{text}\", textfont={\"size\":20}, showscale=False), row=2, col=2)\n",
    "\n",
    "# Atualiza os eixos e mostra o gráfico\n",
    "conf_matrix.update_yaxes(autorange=\"reversed\")\n",
    "conf_matrix.update_layout(title_text='Confusion Matrices for Classifiers')\n",
    "conf_matrix.show()"
   ]
  }
 ],
 "metadata": {
  "kernelspec": {
   "display_name": "Python 3",
   "language": "python",
   "name": "python3"
  },
  "language_info": {
   "codemirror_mode": {
    "name": "ipython",
    "version": 3
   },
   "file_extension": ".py",
   "mimetype": "text/x-python",
   "name": "python",
   "nbconvert_exporter": "python",
   "pygments_lexer": "ipython3",
   "version": "3.12.5"
  }
 },
 "nbformat": 4,
 "nbformat_minor": 2
}
